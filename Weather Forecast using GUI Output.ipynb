{
 "cells": [
  {
   "cell_type": "code",
   "execution_count": 11,
   "id": "be4abc11",
   "metadata": {},
   "outputs": [
    {
     "data": {
      "text/html": [
       "<div>\n",
       "<style scoped>\n",
       "    .dataframe tbody tr th:only-of-type {\n",
       "        vertical-align: middle;\n",
       "    }\n",
       "\n",
       "    .dataframe tbody tr th {\n",
       "        vertical-align: top;\n",
       "    }\n",
       "\n",
       "    .dataframe thead th {\n",
       "        text-align: right;\n",
       "    }\n",
       "</style>\n",
       "<table border=\"1\" class=\"dataframe\">\n",
       "  <thead>\n",
       "    <tr style=\"text-align: right;\">\n",
       "      <th></th>\n",
       "      <th>Unnamed: 0</th>\n",
       "      <th>Max</th>\n",
       "      <th>Min</th>\n",
       "      <th>RH 1</th>\n",
       "      <th>RH 2</th>\n",
       "      <th>RF</th>\n",
       "      <th>SR</th>\n",
       "      <th>SS</th>\n",
       "      <th>Wind</th>\n",
       "    </tr>\n",
       "  </thead>\n",
       "  <tbody>\n",
       "    <tr>\n",
       "      <th>0</th>\n",
       "      <td>1982-01-01 00:00:00</td>\n",
       "      <td>25.0</td>\n",
       "      <td>16.0</td>\n",
       "      <td>94.0</td>\n",
       "      <td>42.0</td>\n",
       "      <td>0.0</td>\n",
       "      <td>243.2</td>\n",
       "      <td>10.2</td>\n",
       "      <td>8.6</td>\n",
       "    </tr>\n",
       "    <tr>\n",
       "      <th>1</th>\n",
       "      <td>1982-01-02 00:00:00</td>\n",
       "      <td>28.5</td>\n",
       "      <td>16.5</td>\n",
       "      <td>88.0</td>\n",
       "      <td>41.0</td>\n",
       "      <td>0.0</td>\n",
       "      <td>241.6</td>\n",
       "      <td>10.4</td>\n",
       "      <td>9.0</td>\n",
       "    </tr>\n",
       "    <tr>\n",
       "      <th>2</th>\n",
       "      <td>1982-01-03 00:00:00</td>\n",
       "      <td>28.5</td>\n",
       "      <td>17.5</td>\n",
       "      <td>94.0</td>\n",
       "      <td>52.0</td>\n",
       "      <td>0.0</td>\n",
       "      <td>183.2</td>\n",
       "      <td>7.0</td>\n",
       "      <td>8.0</td>\n",
       "    </tr>\n",
       "    <tr>\n",
       "      <th>3</th>\n",
       "      <td>1982-01-04 00:00:00</td>\n",
       "      <td>28.0</td>\n",
       "      <td>17.5</td>\n",
       "      <td>92.0</td>\n",
       "      <td>57.0</td>\n",
       "      <td>0.0</td>\n",
       "      <td>209.6</td>\n",
       "      <td>8.6</td>\n",
       "      <td>6.1</td>\n",
       "    </tr>\n",
       "    <tr>\n",
       "      <th>4</th>\n",
       "      <td>1982-01-05 00:00:00</td>\n",
       "      <td>28.0</td>\n",
       "      <td>14.0</td>\n",
       "      <td>94.0</td>\n",
       "      <td>55.0</td>\n",
       "      <td>0.0</td>\n",
       "      <td>260.0</td>\n",
       "      <td>10.2</td>\n",
       "      <td>7.4</td>\n",
       "    </tr>\n",
       "  </tbody>\n",
       "</table>\n",
       "</div>"
      ],
      "text/plain": [
       "            Unnamed: 0   Max  Min   RH 1  RH 2   RF     SR    SS  Wind\n",
       "0  1982-01-01 00:00:00  25.0  16.0  94.0  42.0  0.0  243.2  10.2   8.6\n",
       "1  1982-01-02 00:00:00  28.5  16.5  88.0  41.0  0.0  241.6  10.4   9.0\n",
       "2  1982-01-03 00:00:00  28.5  17.5  94.0  52.0  0.0  183.2   7.0   8.0\n",
       "3  1982-01-04 00:00:00  28.0  17.5  92.0  57.0  0.0  209.6   8.6   6.1\n",
       "4  1982-01-05 00:00:00  28.0  14.0  94.0  55.0  0.0  260.0  10.2   7.4"
      ]
     },
     "execution_count": 11,
     "metadata": {},
     "output_type": "execute_result"
    }
   ],
   "source": [
    "import os# interact with operating system\n",
    "import pandas as pd#library for data manipulation and analysis\n",
    "import numpy as np#library for working with large, multi-dimensional arrays and matrices of numerical data\n",
    "from matplotlib import pyplot as plt#library for creating visualizations of data\n",
    "%matplotlib inline\n",
    "import sklearn\n",
    "from sklearn.model_selection import train_test_split\n",
    "from sklearn.metrics import accuracy_score\n",
    "                                          \n",
    "from sklearn.linear_model import LinearRegression\n",
    "import tensorflow as tf# is a popular open-source library for machine learning and deep learning tasks\n",
    "from tensorflow import keras# is a high-level API for building and training deep learning models using TensorFlow.\n",
    "from sklearn import preprocessing\n",
    "\n",
    "a=pd.read_excel(\"C:\\\\Users\\\\mutth\\\\OneDrive\\\\Documents\\\\Python Materials\\\\DATA SETS\\\\forecast.xlsx\")\n",
    "a.head()"
   ]
  },
  {
   "cell_type": "code",
   "execution_count": 12,
   "id": "e0cb5fec",
   "metadata": {},
   "outputs": [
    {
     "data": {
      "text/plain": [
       "Index(['Unnamed: 0', 'Max', 'Min ', 'RH 1', 'RH 2', 'RF', 'SR', 'SS', 'Wind'], dtype='object')"
      ]
     },
     "execution_count": 12,
     "metadata": {},
     "output_type": "execute_result"
    }
   ],
   "source": [
    "a.columns#is an attribute of a pandas DataFrame that returns the names of the columns of the DataFrame. "
   ]
  },
  {
   "cell_type": "code",
   "execution_count": 13,
   "id": "1ec9cc8b",
   "metadata": {},
   "outputs": [
    {
     "data": {
      "text/plain": [
       "(14863, 9)"
      ]
     },
     "execution_count": 13,
     "metadata": {},
     "output_type": "execute_result"
    }
   ],
   "source": [
    "a.shape#is an attribute of a pandas DataFrame that returns the\n",
    "       #dimensions of the DataFrame as a tuple of the form (n_rows, n_columns)."
   ]
  },
  {
   "cell_type": "code",
   "execution_count": 14,
   "id": "2c63d7ec",
   "metadata": {},
   "outputs": [
    {
     "data": {
      "text/html": [
       "<div>\n",
       "<style scoped>\n",
       "    .dataframe tbody tr th:only-of-type {\n",
       "        vertical-align: middle;\n",
       "    }\n",
       "\n",
       "    .dataframe tbody tr th {\n",
       "        vertical-align: top;\n",
       "    }\n",
       "\n",
       "    .dataframe thead th {\n",
       "        text-align: right;\n",
       "    }\n",
       "</style>\n",
       "<table border=\"1\" class=\"dataframe\">\n",
       "  <thead>\n",
       "    <tr style=\"text-align: right;\">\n",
       "      <th></th>\n",
       "      <th>Max</th>\n",
       "      <th>Min</th>\n",
       "      <th>RH 1</th>\n",
       "      <th>RH 2</th>\n",
       "      <th>RF</th>\n",
       "      <th>SR</th>\n",
       "      <th>SS</th>\n",
       "      <th>Wind</th>\n",
       "    </tr>\n",
       "  </thead>\n",
       "  <tbody>\n",
       "    <tr>\n",
       "      <th>count</th>\n",
       "      <td>14863.000000</td>\n",
       "      <td>14863.000000</td>\n",
       "      <td>14863.000000</td>\n",
       "      <td>14863.000000</td>\n",
       "      <td>14863.000000</td>\n",
       "      <td>14863.000000</td>\n",
       "      <td>14863.000000</td>\n",
       "      <td>14863.000000</td>\n",
       "    </tr>\n",
       "    <tr>\n",
       "      <th>mean</th>\n",
       "      <td>31.873630</td>\n",
       "      <td>21.815399</td>\n",
       "      <td>85.938579</td>\n",
       "      <td>48.138169</td>\n",
       "      <td>1.904237</td>\n",
       "      <td>323.686902</td>\n",
       "      <td>6.785944</td>\n",
       "      <td>7.883519</td>\n",
       "    </tr>\n",
       "    <tr>\n",
       "      <th>std</th>\n",
       "      <td>2.700513</td>\n",
       "      <td>2.453976</td>\n",
       "      <td>5.774486</td>\n",
       "      <td>12.122662</td>\n",
       "      <td>7.311430</td>\n",
       "      <td>104.504516</td>\n",
       "      <td>3.249478</td>\n",
       "      <td>5.901368</td>\n",
       "    </tr>\n",
       "    <tr>\n",
       "      <th>min</th>\n",
       "      <td>22.000000</td>\n",
       "      <td>11.500000</td>\n",
       "      <td>70.000000</td>\n",
       "      <td>0.000000</td>\n",
       "      <td>0.000000</td>\n",
       "      <td>38.500000</td>\n",
       "      <td>0.000000</td>\n",
       "      <td>0.000000</td>\n",
       "    </tr>\n",
       "    <tr>\n",
       "      <th>25%</th>\n",
       "      <td>30.000000</td>\n",
       "      <td>20.800000</td>\n",
       "      <td>82.000000</td>\n",
       "      <td>40.000000</td>\n",
       "      <td>0.000000</td>\n",
       "      <td>234.400000</td>\n",
       "      <td>4.500000</td>\n",
       "      <td>4.400000</td>\n",
       "    </tr>\n",
       "    <tr>\n",
       "      <th>50%</th>\n",
       "      <td>31.800000</td>\n",
       "      <td>22.400000</td>\n",
       "      <td>88.000000</td>\n",
       "      <td>49.000000</td>\n",
       "      <td>0.000000</td>\n",
       "      <td>332.300000</td>\n",
       "      <td>7.700000</td>\n",
       "      <td>6.100000</td>\n",
       "    </tr>\n",
       "    <tr>\n",
       "      <th>75%</th>\n",
       "      <td>33.700000</td>\n",
       "      <td>23.500000</td>\n",
       "      <td>90.000000</td>\n",
       "      <td>56.000000</td>\n",
       "      <td>0.000000</td>\n",
       "      <td>413.100000</td>\n",
       "      <td>9.500000</td>\n",
       "      <td>9.000000</td>\n",
       "    </tr>\n",
       "    <tr>\n",
       "      <th>max</th>\n",
       "      <td>39.400000</td>\n",
       "      <td>27.700000</td>\n",
       "      <td>98.000000</td>\n",
       "      <td>81.000000</td>\n",
       "      <td>130.500000</td>\n",
       "      <td>589.600000</td>\n",
       "      <td>11.900000</td>\n",
       "      <td>39.700000</td>\n",
       "    </tr>\n",
       "  </tbody>\n",
       "</table>\n",
       "</div>"
      ],
      "text/plain": [
       "                Max          Min           RH 1          RH 2            RF  \\\n",
       "count  14863.000000  14863.000000  14863.000000  14863.000000  14863.000000   \n",
       "mean      31.873630     21.815399     85.938579     48.138169      1.904237   \n",
       "std        2.700513      2.453976      5.774486     12.122662      7.311430   \n",
       "min       22.000000     11.500000     70.000000      0.000000      0.000000   \n",
       "25%       30.000000     20.800000     82.000000     40.000000      0.000000   \n",
       "50%       31.800000     22.400000     88.000000     49.000000      0.000000   \n",
       "75%       33.700000     23.500000     90.000000     56.000000      0.000000   \n",
       "max       39.400000     27.700000     98.000000     81.000000    130.500000   \n",
       "\n",
       "                 SR            SS          Wind  \n",
       "count  14863.000000  14863.000000  14863.000000  \n",
       "mean     323.686902      6.785944      7.883519  \n",
       "std      104.504516      3.249478      5.901368  \n",
       "min       38.500000      0.000000      0.000000  \n",
       "25%      234.400000      4.500000      4.400000  \n",
       "50%      332.300000      7.700000      6.100000  \n",
       "75%      413.100000      9.500000      9.000000  \n",
       "max      589.600000     11.900000     39.700000  "
      ]
     },
     "execution_count": 14,
     "metadata": {},
     "output_type": "execute_result"
    }
   ],
   "source": [
    "a.describe()#is a method of a pandas DataFrame that returns a summary of the \n",
    "            #statistical characteristics of the columns of the DataFrame."
   ]
  },
  {
   "cell_type": "code",
   "execution_count": 15,
   "id": "b0505cd8",
   "metadata": {},
   "outputs": [
    {
     "data": {
      "text/plain": [
       "<bound method DataFrame.info of                 Unnamed: 0   Max  Min   RH 1  RH 2   RF     SR    SS  Wind\n",
       "0      1982-01-01 00:00:00  25.0  16.0  94.0  42.0  0.0  243.2  10.2   8.6\n",
       "1      1982-01-02 00:00:00  28.5  16.5  88.0  41.0  0.0  241.6  10.4   9.0\n",
       "2      1982-01-03 00:00:00  28.5  17.5  94.0  52.0  0.0  183.2   7.0   8.0\n",
       "3      1982-01-04 00:00:00  28.0  17.5  92.0  57.0  0.0  209.6   8.6   6.1\n",
       "4      1982-01-05 00:00:00  28.0  14.0  94.0  55.0  0.0  260.0  10.2   7.4\n",
       "...                    ...   ...   ...   ...   ...  ...    ...   ...   ...\n",
       "14858  2022-09-06 00:00:00  32.5  23.5  83.0  68.0  0.0  285.0   5.3   3.8\n",
       "14859  2022-09-07 00:00:00  29.5  23.5  83.0  63.0  0.5  255.0   3.9   7.0\n",
       "14860  2022-09-08 00:00:00  30.0  22.5  80.0  60.0  5.0  270.0   1.8   9.8\n",
       "14861  2022-09-09 00:00:00  29.5  23.5  83.0  64.0  0.0  270.0   2.8  10.1\n",
       "14862  2022-09-10 00:00:00  29.0  24.0  80.0  56.0  0.0  300.0   6.7  11.3\n",
       "\n",
       "[14863 rows x 9 columns]>"
      ]
     },
     "execution_count": 15,
     "metadata": {},
     "output_type": "execute_result"
    }
   ],
   "source": [
    "a.info #is a method of a pandas DataFrame that returns information about the DataFrame,\n",
    "       #including the data types of the columns, \n",
    "       #the number of non-missing values in each column, and the memory usage of the DataFrame"
   ]
  },
  {
   "cell_type": "code",
   "execution_count": 16,
   "id": "91618d80",
   "metadata": {},
   "outputs": [
    {
     "data": {
      "text/plain": [
       "Unnamed: 0    False\n",
       "Max           False\n",
       "Min           False\n",
       "RH 1          False\n",
       "RH 2          False\n",
       "RF            False\n",
       "SR            False\n",
       "SS            False\n",
       "Wind          False\n",
       "dtype: bool"
      ]
     },
     "execution_count": 16,
     "metadata": {},
     "output_type": "execute_result"
    }
   ],
   "source": [
    "a.isnull().any()#is a method of a pandas DataFrame that returns a boolean\n",
    "                #DataFrame indicating whether each value in the DataFrame is missing (True) or not missing (False).\n",
    "                #any is a method of a pandas DataFrame that returns a boolean value indicating \n",
    "                #whether any value in the DataFrame is True."
   ]
  },
  {
   "cell_type": "code",
   "execution_count": 17,
   "id": "3456d8a9",
   "metadata": {},
   "outputs": [
    {
     "data": {
      "text/plain": [
       "Unnamed: 0    0.0\n",
       "Max           0.0\n",
       "Min           0.0\n",
       "RH 1          0.0\n",
       "RH 2          0.0\n",
       "RF            0.0\n",
       "SR            0.0\n",
       "SS            0.0\n",
       "Wind          0.0\n",
       "dtype: float64"
      ]
     },
     "execution_count": 17,
     "metadata": {},
     "output_type": "execute_result"
    }
   ],
   "source": [
    "round(100*(a.isnull().sum()/len(a.index)),2)#calculates the percentage of missing values in each column of a pandas DataFrame. "
   ]
  },
  {
   "cell_type": "code",
   "execution_count": 18,
   "id": "1233bd7a",
   "metadata": {},
   "outputs": [],
   "source": [
    "a_num= a[list(a.dtypes[a.dtypes!=object].index)]#This code selects the numeric columns of a pandas DataFrame "
   ]
  },
  {
   "cell_type": "code",
   "execution_count": 19,
   "id": "2e8d2249",
   "metadata": {},
   "outputs": [],
   "source": [
    "a_y=a_num.pop(\"RF\")#This code removes the column \"RF\" from the DataFrame a_num and\n",
    "                   #assigns the values in the column to a separate variable a_y."
   ]
  },
  {
   "cell_type": "code",
   "execution_count": 20,
   "id": "b3e27127",
   "metadata": {},
   "outputs": [],
   "source": [
    "a_x=a_num#This code assigns the DataFrame a_num to a new variable a_x."
   ]
  },
  {
   "cell_type": "code",
   "execution_count": 21,
   "id": "334c4209",
   "metadata": {},
   "outputs": [],
   "source": [
    "train_x,test_x,train_y,test_y=train_test_split(a_x,a_y,test_size=0.2,random_state=2)\n",
    "#This code used to split a dataset into training and test sets.\n",
    "#The dataset is represented by the predictor variables in a_x and the target variable in a_y."
   ]
  },
  {
   "cell_type": "code",
   "execution_count": 22,
   "id": "213b0c47",
   "metadata": {},
   "outputs": [
    {
     "data": {
      "text/html": [
       "<div>\n",
       "<style scoped>\n",
       "    .dataframe tbody tr th:only-of-type {\n",
       "        vertical-align: middle;\n",
       "    }\n",
       "\n",
       "    .dataframe tbody tr th {\n",
       "        vertical-align: top;\n",
       "    }\n",
       "\n",
       "    .dataframe thead th {\n",
       "        text-align: right;\n",
       "    }\n",
       "</style>\n",
       "<table border=\"1\" class=\"dataframe\">\n",
       "  <thead>\n",
       "    <tr style=\"text-align: right;\">\n",
       "      <th></th>\n",
       "      <th>Max</th>\n",
       "      <th>Min</th>\n",
       "      <th>RH 1</th>\n",
       "      <th>RH 2</th>\n",
       "      <th>SR</th>\n",
       "      <th>SS</th>\n",
       "      <th>Wind</th>\n",
       "    </tr>\n",
       "  </thead>\n",
       "  <tbody>\n",
       "    <tr>\n",
       "      <th>9619</th>\n",
       "      <td>37.0</td>\n",
       "      <td>23.6</td>\n",
       "      <td>88.0</td>\n",
       "      <td>54.0</td>\n",
       "      <td>447.0</td>\n",
       "      <td>8.5</td>\n",
       "      <td>5.8</td>\n",
       "    </tr>\n",
       "    <tr>\n",
       "      <th>11016</th>\n",
       "      <td>35.4</td>\n",
       "      <td>20.0</td>\n",
       "      <td>91.0</td>\n",
       "      <td>36.0</td>\n",
       "      <td>492.0</td>\n",
       "      <td>9.5</td>\n",
       "      <td>3.4</td>\n",
       "    </tr>\n",
       "    <tr>\n",
       "      <th>12440</th>\n",
       "      <td>28.6</td>\n",
       "      <td>22.6</td>\n",
       "      <td>89.0</td>\n",
       "      <td>53.0</td>\n",
       "      <td>292.1</td>\n",
       "      <td>5.1</td>\n",
       "      <td>4.9</td>\n",
       "    </tr>\n",
       "    <tr>\n",
       "      <th>7610</th>\n",
       "      <td>29.0</td>\n",
       "      <td>22.0</td>\n",
       "      <td>94.0</td>\n",
       "      <td>65.0</td>\n",
       "      <td>326.8</td>\n",
       "      <td>4.4</td>\n",
       "      <td>4.8</td>\n",
       "    </tr>\n",
       "    <tr>\n",
       "      <th>12088</th>\n",
       "      <td>30.5</td>\n",
       "      <td>21.6</td>\n",
       "      <td>82.0</td>\n",
       "      <td>49.0</td>\n",
       "      <td>442.8</td>\n",
       "      <td>1.5</td>\n",
       "      <td>7.4</td>\n",
       "    </tr>\n",
       "  </tbody>\n",
       "</table>\n",
       "</div>"
      ],
      "text/plain": [
       "        Max  Min   RH 1  RH 2     SR   SS  Wind\n",
       "9619   37.0  23.6  88.0  54.0  447.0  8.5   5.8\n",
       "11016  35.4  20.0  91.0  36.0  492.0  9.5   3.4\n",
       "12440  28.6  22.6  89.0  53.0  292.1  5.1   4.9\n",
       "7610   29.0  22.0  94.0  65.0  326.8  4.4   4.8\n",
       "12088  30.5  21.6  82.0  49.0  442.8  1.5   7.4"
      ]
     },
     "execution_count": 22,
     "metadata": {},
     "output_type": "execute_result"
    }
   ],
   "source": [
    "train_x.head()#This code displays the first few rows of the DataFrame train_x"
   ]
  },
  {
   "cell_type": "code",
   "execution_count": 23,
   "id": "68024893",
   "metadata": {},
   "outputs": [],
   "source": [
    "model=LinearRegression()#Using Linear Regression Algoritham"
   ]
  },
  {
   "cell_type": "code",
   "execution_count": 24,
   "id": "87a661e2",
   "metadata": {},
   "outputs": [
    {
     "data": {
      "text/plain": [
       "LinearRegression()"
      ]
     },
     "execution_count": 24,
     "metadata": {},
     "output_type": "execute_result"
    }
   ],
   "source": [
    "model.fit(train_x,train_y)\n",
    "#This code fits a machine learning model to the training data stored in the DataFrame train_x and the Series train_y."
   ]
  },
  {
   "cell_type": "code",
   "execution_count": 25,
   "id": "ffac4f09",
   "metadata": {},
   "outputs": [],
   "source": [
    "prediction=model.predict(test_x)\n",
    "#This code uses a trained machine learning model to make predictions on a test set stored in the DataFrame test_x."
   ]
  },
  {
   "cell_type": "code",
   "execution_count": 26,
   "id": "a994dc65",
   "metadata": {},
   "outputs": [
    {
     "data": {
      "text/plain": [
       "55.70763288468245"
      ]
     },
     "execution_count": 26,
     "metadata": {},
     "output_type": "execute_result"
    }
   ],
   "source": [
    "np.mean((prediction-test_y)**2)\n",
    "#This code calculates the mean squared error (MSE) between the predictions made by a machine learning model\n",
    "#and the true values of the target variable in a test set."
   ]
  },
  {
   "cell_type": "code",
   "execution_count": 27,
   "id": "80b841f8",
   "metadata": {},
   "outputs": [
    {
     "data": {
      "text/html": [
       "<div>\n",
       "<style scoped>\n",
       "    .dataframe tbody tr th:only-of-type {\n",
       "        vertical-align: middle;\n",
       "    }\n",
       "\n",
       "    .dataframe tbody tr th {\n",
       "        vertical-align: top;\n",
       "    }\n",
       "\n",
       "    .dataframe thead th {\n",
       "        text-align: right;\n",
       "    }\n",
       "</style>\n",
       "<table border=\"1\" class=\"dataframe\">\n",
       "  <thead>\n",
       "    <tr style=\"text-align: right;\">\n",
       "      <th></th>\n",
       "      <th>actual</th>\n",
       "      <th>prediction</th>\n",
       "      <th>diff</th>\n",
       "    </tr>\n",
       "  </thead>\n",
       "  <tbody>\n",
       "    <tr>\n",
       "      <th>1104</th>\n",
       "      <td>0.0</td>\n",
       "      <td>2.744148</td>\n",
       "      <td>-2.744148</td>\n",
       "    </tr>\n",
       "    <tr>\n",
       "      <th>9006</th>\n",
       "      <td>0.0</td>\n",
       "      <td>1.942706</td>\n",
       "      <td>-1.942706</td>\n",
       "    </tr>\n",
       "    <tr>\n",
       "      <th>4135</th>\n",
       "      <td>0.0</td>\n",
       "      <td>1.177861</td>\n",
       "      <td>-1.177861</td>\n",
       "    </tr>\n",
       "    <tr>\n",
       "      <th>5605</th>\n",
       "      <td>0.0</td>\n",
       "      <td>3.442003</td>\n",
       "      <td>-3.442003</td>\n",
       "    </tr>\n",
       "    <tr>\n",
       "      <th>6516</th>\n",
       "      <td>0.0</td>\n",
       "      <td>4.721295</td>\n",
       "      <td>-4.721295</td>\n",
       "    </tr>\n",
       "    <tr>\n",
       "      <th>...</th>\n",
       "      <td>...</td>\n",
       "      <td>...</td>\n",
       "      <td>...</td>\n",
       "    </tr>\n",
       "    <tr>\n",
       "      <th>12443</th>\n",
       "      <td>0.0</td>\n",
       "      <td>3.998672</td>\n",
       "      <td>-3.998672</td>\n",
       "    </tr>\n",
       "    <tr>\n",
       "      <th>9963</th>\n",
       "      <td>0.0</td>\n",
       "      <td>1.709184</td>\n",
       "      <td>-1.709184</td>\n",
       "    </tr>\n",
       "    <tr>\n",
       "      <th>224</th>\n",
       "      <td>17.4</td>\n",
       "      <td>3.432449</td>\n",
       "      <td>13.967551</td>\n",
       "    </tr>\n",
       "    <tr>\n",
       "      <th>13853</th>\n",
       "      <td>0.0</td>\n",
       "      <td>2.986547</td>\n",
       "      <td>-2.986547</td>\n",
       "    </tr>\n",
       "    <tr>\n",
       "      <th>3436</th>\n",
       "      <td>0.0</td>\n",
       "      <td>4.011692</td>\n",
       "      <td>-4.011692</td>\n",
       "    </tr>\n",
       "  </tbody>\n",
       "</table>\n",
       "<p>2973 rows × 3 columns</p>\n",
       "</div>"
      ],
      "text/plain": [
       "       actual  prediction       diff\n",
       "1104      0.0    2.744148  -2.744148\n",
       "9006      0.0    1.942706  -1.942706\n",
       "4135      0.0    1.177861  -1.177861\n",
       "5605      0.0    3.442003  -3.442003\n",
       "6516      0.0    4.721295  -4.721295\n",
       "...       ...         ...        ...\n",
       "12443     0.0    3.998672  -3.998672\n",
       "9963      0.0    1.709184  -1.709184\n",
       "224      17.4    3.432449  13.967551\n",
       "13853     0.0    2.986547  -2.986547\n",
       "3436      0.0    4.011692  -4.011692\n",
       "\n",
       "[2973 rows x 3 columns]"
      ]
     },
     "execution_count": 27,
     "metadata": {},
     "output_type": "execute_result"
    }
   ],
   "source": [
    "pd.DataFrame({\"actual\":test_y,\"prediction\":prediction,\"diff\":test_y-prediction})\n",
    "#This code creates a new DataFrame that compares the actual values of the target variable in a\n",
    "#test set with the predictions made by a machine learning model,and the difference between the two."
   ]
  },
  {
   "cell_type": "code",
   "execution_count": 28,
   "id": "e07d5911",
   "metadata": {},
   "outputs": [],
   "source": [
    "from sklearn.preprocessing import PolynomialFeatures"
   ]
  },
  {
   "cell_type": "code",
   "execution_count": 29,
   "id": "0d8096e6",
   "metadata": {},
   "outputs": [],
   "source": [
    "poly=PolynomialFeatures(degree=4)# Create a PolynomialFeatures transformer"
   ]
  },
  {
   "cell_type": "code",
   "execution_count": 30,
   "id": "75e2c0d6",
   "metadata": {},
   "outputs": [],
   "source": [
    "x_poly=poly.fit_transform(train_x)\n",
    "#This will return a new feature matrix x_poly with the polynomial combinations of the original features."
   ]
  },
  {
   "cell_type": "code",
   "execution_count": 31,
   "id": "1fe8b7ec",
   "metadata": {},
   "outputs": [
    {
     "data": {
      "text/plain": [
       "PolynomialFeatures(degree=4)"
      ]
     },
     "execution_count": 31,
     "metadata": {},
     "output_type": "execute_result"
    }
   ],
   "source": [
    "poly.fit(x_poly,train_y)# Fit the transformer to the training data"
   ]
  },
  {
   "cell_type": "code",
   "execution_count": 32,
   "id": "eb4fd2f3",
   "metadata": {},
   "outputs": [],
   "source": [
    "lin=LinearRegression()"
   ]
  },
  {
   "cell_type": "code",
   "execution_count": 33,
   "id": "6d26ce3e",
   "metadata": {},
   "outputs": [
    {
     "data": {
      "text/plain": [
       "LinearRegression()"
      ]
     },
     "execution_count": 33,
     "metadata": {},
     "output_type": "execute_result"
    }
   ],
   "source": [
    "lin.fit(x_poly,train_y)# Fit the linear model to the training data"
   ]
  },
  {
   "cell_type": "code",
   "execution_count": 34,
   "id": "a9a9217d",
   "metadata": {},
   "outputs": [],
   "source": [
    "pred2=lin.predict(poly.fit_transform(test_x))# Generate predicted values for the test data"
   ]
  },
  {
   "cell_type": "code",
   "execution_count": 35,
   "id": "cb88acc0",
   "metadata": {},
   "outputs": [
    {
     "data": {
      "text/plain": [
       "47.67479279769929"
      ]
     },
     "execution_count": 35,
     "metadata": {},
     "output_type": "execute_result"
    }
   ],
   "source": [
    "np.mean((pred2-test_y)**2)\n",
    "#calculates the mean squared error (MSE) between the predicted values pred2 and the true values test_y."
   ]
  },
  {
   "cell_type": "code",
   "execution_count": 36,
   "id": "f5080dbe",
   "metadata": {},
   "outputs": [
    {
     "data": {
      "text/html": [
       "<div>\n",
       "<style scoped>\n",
       "    .dataframe tbody tr th:only-of-type {\n",
       "        vertical-align: middle;\n",
       "    }\n",
       "\n",
       "    .dataframe tbody tr th {\n",
       "        vertical-align: top;\n",
       "    }\n",
       "\n",
       "    .dataframe thead th {\n",
       "        text-align: right;\n",
       "    }\n",
       "</style>\n",
       "<table border=\"1\" class=\"dataframe\">\n",
       "  <thead>\n",
       "    <tr style=\"text-align: right;\">\n",
       "      <th></th>\n",
       "      <th>actual</th>\n",
       "      <th>prediction</th>\n",
       "      <th>diff</th>\n",
       "    </tr>\n",
       "  </thead>\n",
       "  <tbody>\n",
       "    <tr>\n",
       "      <th>1104</th>\n",
       "      <td>0.0</td>\n",
       "      <td>1.063548</td>\n",
       "      <td>-1.063548</td>\n",
       "    </tr>\n",
       "    <tr>\n",
       "      <th>9006</th>\n",
       "      <td>0.0</td>\n",
       "      <td>0.429501</td>\n",
       "      <td>-0.429501</td>\n",
       "    </tr>\n",
       "    <tr>\n",
       "      <th>4135</th>\n",
       "      <td>0.0</td>\n",
       "      <td>-0.271855</td>\n",
       "      <td>0.271855</td>\n",
       "    </tr>\n",
       "    <tr>\n",
       "      <th>5605</th>\n",
       "      <td>0.0</td>\n",
       "      <td>5.505171</td>\n",
       "      <td>-5.505171</td>\n",
       "    </tr>\n",
       "    <tr>\n",
       "      <th>6516</th>\n",
       "      <td>0.0</td>\n",
       "      <td>7.671041</td>\n",
       "      <td>-7.671041</td>\n",
       "    </tr>\n",
       "    <tr>\n",
       "      <th>...</th>\n",
       "      <td>...</td>\n",
       "      <td>...</td>\n",
       "      <td>...</td>\n",
       "    </tr>\n",
       "    <tr>\n",
       "      <th>12443</th>\n",
       "      <td>0.0</td>\n",
       "      <td>4.556320</td>\n",
       "      <td>-4.556320</td>\n",
       "    </tr>\n",
       "    <tr>\n",
       "      <th>9963</th>\n",
       "      <td>0.0</td>\n",
       "      <td>1.912780</td>\n",
       "      <td>-1.912780</td>\n",
       "    </tr>\n",
       "    <tr>\n",
       "      <th>224</th>\n",
       "      <td>17.4</td>\n",
       "      <td>7.210101</td>\n",
       "      <td>10.189899</td>\n",
       "    </tr>\n",
       "    <tr>\n",
       "      <th>13853</th>\n",
       "      <td>0.0</td>\n",
       "      <td>2.173087</td>\n",
       "      <td>-2.173087</td>\n",
       "    </tr>\n",
       "    <tr>\n",
       "      <th>3436</th>\n",
       "      <td>0.0</td>\n",
       "      <td>-2.614987</td>\n",
       "      <td>2.614987</td>\n",
       "    </tr>\n",
       "  </tbody>\n",
       "</table>\n",
       "<p>2973 rows × 3 columns</p>\n",
       "</div>"
      ],
      "text/plain": [
       "       actual  prediction       diff\n",
       "1104      0.0    1.063548  -1.063548\n",
       "9006      0.0    0.429501  -0.429501\n",
       "4135      0.0   -0.271855   0.271855\n",
       "5605      0.0    5.505171  -5.505171\n",
       "6516      0.0    7.671041  -7.671041\n",
       "...       ...         ...        ...\n",
       "12443     0.0    4.556320  -4.556320\n",
       "9963      0.0    1.912780  -1.912780\n",
       "224      17.4    7.210101  10.189899\n",
       "13853     0.0    2.173087  -2.173087\n",
       "3436      0.0   -2.614987   2.614987\n",
       "\n",
       "[2973 rows x 3 columns]"
      ]
     },
     "execution_count": 36,
     "metadata": {},
     "output_type": "execute_result"
    }
   ],
   "source": [
    "pd.DataFrame({\"actual\":test_y,\"prediction\":pred2,\"diff\":test_y-pred2})#create a dataframe"
   ]
  },
  {
   "cell_type": "code",
   "execution_count": 37,
   "id": "198e4628",
   "metadata": {},
   "outputs": [],
   "source": [
    "from sklearn.tree import DecisionTreeRegressor#Using Decission Tree Algoritham"
   ]
  },
  {
   "cell_type": "code",
   "execution_count": 38,
   "id": "bdef5d16",
   "metadata": {},
   "outputs": [],
   "source": [
    "regressor=DecisionTreeRegressor(random_state=0)# Create a decision tree regressor"
   ]
  },
  {
   "cell_type": "code",
   "execution_count": 39,
   "id": "5ab5ab3f",
   "metadata": {},
   "outputs": [
    {
     "data": {
      "text/plain": [
       "DecisionTreeRegressor(random_state=0)"
      ]
     },
     "execution_count": 39,
     "metadata": {},
     "output_type": "execute_result"
    }
   ],
   "source": [
    "regressor.fit(train_x,train_y)# Fit the regressor to the training data"
   ]
  },
  {
   "cell_type": "code",
   "execution_count": 40,
   "id": "a048d50c",
   "metadata": {},
   "outputs": [],
   "source": [
    "pred3=regressor.predict(test_x)# Make predictions on the test data"
   ]
  },
  {
   "cell_type": "code",
   "execution_count": 41,
   "id": "a8c64690",
   "metadata": {},
   "outputs": [
    {
     "data": {
      "text/plain": [
       "87.72407268752106"
      ]
     },
     "execution_count": 41,
     "metadata": {},
     "output_type": "execute_result"
    }
   ],
   "source": [
    "np.mean((pred3-test_y)**2)\n",
    "#calculates the mean squared error (MSE) between the predicted values pred3 and the true values test_y."
   ]
  },
  {
   "cell_type": "code",
   "execution_count": 42,
   "id": "bda202dc",
   "metadata": {},
   "outputs": [],
   "source": [
    "from sklearn.ensemble import RandomForestRegressor#Using Random Forest Algorithm"
   ]
  },
  {
   "cell_type": "code",
   "execution_count": 43,
   "id": "c4801aa4",
   "metadata": {},
   "outputs": [],
   "source": [
    "regr=RandomForestRegressor(max_depth=10,random_state=0,n_estimators=100)# Create a random forest regressor"
   ]
  },
  {
   "cell_type": "code",
   "execution_count": 44,
   "id": "f4a643d0",
   "metadata": {},
   "outputs": [
    {
     "data": {
      "text/plain": [
       "RandomForestRegressor(max_depth=10, random_state=0)"
      ]
     },
     "execution_count": 44,
     "metadata": {},
     "output_type": "execute_result"
    }
   ],
   "source": [
    "regr.fit(train_x,train_y)# Fit the regressor to the training data"
   ]
  },
  {
   "cell_type": "code",
   "execution_count": 45,
   "id": "29ee09b7",
   "metadata": {},
   "outputs": [],
   "source": [
    "pred4=regr.predict(test_x)# Make predictions on the test data"
   ]
  },
  {
   "cell_type": "code",
   "execution_count": 46,
   "id": "8376ad57",
   "metadata": {},
   "outputs": [
    {
     "data": {
      "text/plain": [
       "48.296078973719425"
      ]
     },
     "execution_count": 46,
     "metadata": {},
     "output_type": "execute_result"
    }
   ],
   "source": [
    "np.mean((pred4-test_y)**2)\n",
    "#calculates the mean squared error (MSE) between the predicted values pred4 and the true values test_y."
   ]
  },
  {
   "cell_type": "code",
   "execution_count": 47,
   "id": "ed7db8b1",
   "metadata": {},
   "outputs": [
    {
     "name": "stdout",
     "output_type": "stream",
     "text": [
      "Requirement already satisfied: PySimpleGUI in c:\\users\\mutth\\anaconda3\\lib\\site-packages (4.60.4)\n"
     ]
    }
   ],
   "source": [
    "!pip install PySimpleGUI"
   ]
  },
  {
   "cell_type": "code",
   "execution_count": 49,
   "id": "da1f661e",
   "metadata": {},
   "outputs": [],
   "source": [
    "import PySimpleGUI as sg\n",
    "\n",
    "layout = [\n",
    "    [sg.Text('Mean Squared Error')],\n",
    "    [sg.Text('Linear Regression:', size=(15, 1)), sg.Text(str(np.mean((prediction-test_y)**2)), key='lin_reg_mse')],\n",
    "    [sg.Text('Polynomial Regression:', size=(15, 1)), sg.Text(str(np.mean((pred2-test_y)**2)), key='poly_reg_mse')],\n",
    "    [sg.Text('Decision Tree Regression:', size=(15, 1)), sg.Text(str(np.mean((pred3-test_y)**2)), key='dt_reg_mse')],\n",
    "    [sg.Text('Random Forest Regression:', size=(15, 1)), sg.Text(str(np.mean((pred4-test_y)**2)), key='rf_reg_mse')],\n",
    "]\n",
    "\n",
    "window = sg.Window('Regression Analysis Results', layout)\n",
    "\n",
    "while True:\n",
    "    event, values = window.read()\n",
    "    if event in (sg.WIN_CLOSED, 'Cancel'):\n",
    "        break\n",
    "\n",
    "window.close()\n"
   ]
  },
  {
   "cell_type": "code",
   "execution_count": null,
   "id": "a7ab7306",
   "metadata": {},
   "outputs": [],
   "source": []
  }
 ],
 "metadata": {
  "kernelspec": {
   "display_name": "Python 3 (ipykernel)",
   "language": "python",
   "name": "python3"
  },
  "language_info": {
   "codemirror_mode": {
    "name": "ipython",
    "version": 3
   },
   "file_extension": ".py",
   "mimetype": "text/x-python",
   "name": "python",
   "nbconvert_exporter": "python",
   "pygments_lexer": "ipython3",
   "version": "3.9.13"
  }
 },
 "nbformat": 4,
 "nbformat_minor": 5
}
